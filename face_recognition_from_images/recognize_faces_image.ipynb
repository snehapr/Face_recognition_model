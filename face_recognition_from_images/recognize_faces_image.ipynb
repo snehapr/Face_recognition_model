{
 "cells": [
  {
   "cell_type": "code",
   "execution_count": 68,
   "id": "078283b5",
   "metadata": {},
   "outputs": [],
   "source": [
    "# import the necessary packages\n",
    "import face_recognition\n",
    "import argparse\n",
    "import pickle\n",
    "import cv2\n",
    "import os\n",
    "# construct the argument parser and parse the arguments\n",
    "ap=argparse.ArgumentParser()\n",
    "ap.add_argument(\"-e\", \"--encodings\", required=True, help=\"path to serialized db of facial encodings\")\n",
    "ap.add_argument(\"-i\", \"--image\", required=True, help=\"path to input image\")\n",
    "ap.add_argument(\"-d\", \"--detection-method\", type=str, default=\"cnn\", help=\"face detection model to use: either `hog` or `cnn`\")\n",
    "args= vars(ap.parse_args)"
   ]
  },
  {
   "cell_type": "code",
   "execution_count": 69,
   "id": "968a5e0a",
   "metadata": {},
   "outputs": [
    {
     "name": "stdout",
     "output_type": "stream",
     "text": [
      "C:\\Users\\sphaniraj\n"
     ]
    }
   ],
   "source": [
    "print(os.getcwd())"
   ]
  },
  {
   "cell_type": "code",
   "execution_count": 70,
   "id": "47526d74",
   "metadata": {},
   "outputs": [
    {
     "name": "stdout",
     "output_type": "stream",
     "text": [
      "loading encodings...\n",
      "recognizing faces...\n"
     ]
    }
   ],
   "source": [
    "# load the known faces and embeddings\n",
    "print(\"loading encodings...\")\n",
    "data = pickle.loads(open(\"encodings\", \"rb\").read())\n",
    "# load the input image and convert it from BGR to RGB\n",
    "image = cv2.imread(\"examples\\example_7.jpg\")\n",
    "#print(image)\n",
    "rgb = cv2.cvtColor(image, cv2.COLOR_BGR2RGB)\n",
    "# detect the (x, y)-coordinates of the bounding boxes corresponding\n",
    "# to each face in the input image, then compute the facial embeddings\n",
    "# for each face\n",
    "print(\"recognizing faces...\")\n",
    "boxes = face_recognition.face_locations(rgb,model=\"detection_method\")\n",
    "encodings = face_recognition.face_encodings(rgb, boxes)\n",
    "# initialize the list of names for each face detected\n",
    "names = []"
   ]
  },
  {
   "cell_type": "code",
   "execution_count": 71,
   "id": "edeee79b",
   "metadata": {},
   "outputs": [
    {
     "name": "stdout",
     "output_type": "stream",
     "text": [
      "[(130, 579, 182, 527), (135, 411, 198, 349), (177, 349, 239, 287)]\n",
      "[array([-0.14032573,  0.04912601,  0.09384458, -0.0361614 , -0.08144219,\n",
      "       -0.03211403, -0.10941029, -0.07276662,  0.18814099, -0.05690083,\n",
      "        0.18693349,  0.02701893, -0.12492654, -0.12306495, -0.05401034,\n",
      "        0.06274499, -0.151021  , -0.12970726, -0.04641719, -0.08927697,\n",
      "        0.0064336 , -0.00900209,  0.00228284,  0.00322308, -0.27449802,\n",
      "       -0.35074183, -0.10380649, -0.13077998,  0.05540316, -0.10423569,\n",
      "        0.06541584,  0.01790967, -0.23515697, -0.04849654,  0.01549627,\n",
      "        0.13715407, -0.03178289,  0.04306391,  0.19814789,  0.0176608 ,\n",
      "       -0.15959024,  0.00060312, -0.00778943,  0.2394703 ,  0.22046188,\n",
      "        0.04892879,  0.045003  , -0.09955294,  0.16193454, -0.17707454,\n",
      "        0.11617086,  0.19625317,  0.09942766,  0.00965582,  0.20049885,\n",
      "       -0.11978413, -0.03334621,  0.18280853, -0.16370313,  0.0781778 ,\n",
      "        0.01169051,  0.01472355, -0.0493634 , -0.05597164,  0.11280997,\n",
      "        0.05468316, -0.10411057, -0.10454626,  0.21796925, -0.13211124,\n",
      "        0.0527533 ,  0.10737495, -0.03916826, -0.21523887, -0.30220687,\n",
      "        0.05239004,  0.4009074 ,  0.14117889, -0.20836581,  0.03800039,\n",
      "       -0.0468362 , -0.07039972,  0.05934945,  0.01292963, -0.11450449,\n",
      "        0.03746995, -0.0413492 ,  0.04628388,  0.12993273,  0.07676367,\n",
      "        0.05782473,  0.16002598, -0.04192703,  0.0158813 ,  0.03974269,\n",
      "        0.0006104 , -0.18421854,  0.00900842, -0.11069401, -0.03480419,\n",
      "        0.06248222, -0.04546446,  0.04305629,  0.05953443, -0.1320236 ,\n",
      "        0.15632258,  0.015762  , -0.04150578, -0.06430425,  0.01257316,\n",
      "       -0.13301212, -0.01206474,  0.21783918, -0.27663672,  0.20359585,\n",
      "        0.10622983, -0.08146167,  0.16963769,  0.1371074 ,  0.05720255,\n",
      "       -0.04101569, -0.02040847, -0.10788864, -0.04203098, -0.03268344,\n",
      "       -0.11268377,  0.08057681, -0.00841819]), array([-0.07660322,  0.13081296,  0.02324321, -0.05491538, -0.12500274,\n",
      "       -0.01400014, -0.0028317 , -0.13133423,  0.15362836, -0.05108104,\n",
      "        0.15967707,  0.02375082, -0.23693417, -0.04341269, -0.02844111,\n",
      "        0.07041608, -0.1831567 , -0.04261965, -0.13138747, -0.10674182,\n",
      "        0.00565673,  0.0263136 ,  0.0348756 , -0.01633427, -0.13002722,\n",
      "       -0.2705355 , -0.07533181, -0.0272088 , -0.02351916, -0.14157489,\n",
      "        0.02604263,  0.08707901, -0.30287594, -0.09834325, -0.02361817,\n",
      "        0.00973382, -0.11428519, -0.01522069,  0.11193478,  0.01593671,\n",
      "       -0.10967018,  0.06131106,  0.07238752,  0.24814656,  0.25257996,\n",
      "       -0.01017925, -0.02373756, -0.0720842 ,  0.12513649, -0.28742081,\n",
      "        0.00776121,  0.18842602,  0.12741262,  0.09898415,  0.06783691,\n",
      "       -0.1083189 ,  0.03535489,  0.09517084, -0.12572253,  0.10848483,\n",
      "        0.1188784 , -0.07632762, -0.02630284, -0.03127714,  0.15349792,\n",
      "        0.06951363, -0.10099393, -0.13340475,  0.10737584, -0.1268664 ,\n",
      "       -0.06385542,  0.0653867 , -0.08291942, -0.23709241, -0.30973548,\n",
      "        0.05344242,  0.33370054,  0.21175027, -0.18274428, -0.03507667,\n",
      "       -0.20706846, -0.00526502, -0.01343457, -0.00849089, -0.09591212,\n",
      "       -0.03440109, -0.10221811,  0.10452203,  0.22542539, -0.00830512,\n",
      "       -0.07655073,  0.29735351,  0.04099026, -0.01913826, -0.03110746,\n",
      "        0.03902142, -0.14308012, -0.03789607, -0.17080936, -0.03241591,\n",
      "        0.04043998, -0.14873317, -0.02280908,  0.17953816, -0.20748565,\n",
      "        0.25317484, -0.01542179,  0.00075373, -0.050775  , -0.04588473,\n",
      "       -0.11075433,  0.06472727,  0.13133003, -0.26487824,  0.28093606,\n",
      "        0.18513948,  0.03064258,  0.11110671,  0.04865747,  0.01779388,\n",
      "       -0.03134956, -0.03213384, -0.08145645, -0.14330998,  0.02035499,\n",
      "       -0.02300913,  0.04298065,  0.03942154]), array([-0.08500469,  0.04613965,  0.06079578,  0.00606885, -0.11823687,\n",
      "       -0.0331649 ,  0.05529547, -0.05397123,  0.1017003 , -0.1055671 ,\n",
      "        0.10922066,  0.02732081, -0.2421007 , -0.03201113, -0.02589361,\n",
      "        0.15035501, -0.09211608, -0.07509553, -0.17356518, -0.13477843,\n",
      "       -0.03244127,  0.103173  ,  0.01358738, -0.08228114, -0.15580802,\n",
      "       -0.21822493, -0.03683261,  0.00983724, -0.01930367, -0.14119314,\n",
      "        0.07338956,  0.14175968, -0.20918196, -0.03699492, -0.00136322,\n",
      "        0.08561789, -0.10192707, -0.04831836,  0.19835855,  0.06783142,\n",
      "       -0.14487301,  0.05216235,  0.06826039,  0.29207736,  0.20133153,\n",
      "       -0.11675394,  0.00604483, -0.063843  ,  0.07528175, -0.31494617,\n",
      "       -0.02610055,  0.11499916,  0.12420885,  0.11089047,  0.05656916,\n",
      "       -0.08378083,  0.0628968 ,  0.11578305, -0.14460066,  0.08067164,\n",
      "        0.0959164 , -0.13060121, -0.04547965, -0.00920303,  0.13477993,\n",
      "        0.04163095, -0.08278403, -0.07604893,  0.15061295, -0.14989114,\n",
      "       -0.039304  ,  0.06606999, -0.05194961, -0.15723309, -0.3053048 ,\n",
      "        0.03745237,  0.30576468,  0.15243423, -0.15980089, -0.02641788,\n",
      "       -0.07879287, -0.00237299,  0.00059182,  0.05200495, -0.12250099,\n",
      "       -0.05038623, -0.04462595,  0.13682388,  0.22467017,  0.00333489,\n",
      "       -0.05626785,  0.20620102,  0.10301871, -0.06231443,  0.01804531,\n",
      "        0.0067218 , -0.07041995, -0.09498312, -0.10469335, -0.00176543,\n",
      "        0.06470466, -0.24141335,  0.02361106,  0.17762527, -0.18379565,\n",
      "        0.2622914 , -0.04212243, -0.04937023,  0.01670332, -0.0061295 ,\n",
      "       -0.05046346,  0.07668296,  0.15188915, -0.17398913,  0.21948509,\n",
      "        0.19873375, -0.06269012,  0.08888023,  0.0357419 ,  0.09612696,\n",
      "       -0.09138572,  0.03498649, -0.08520802, -0.11900015, -0.01185033,\n",
      "       -0.0349379 ,  0.06934549,  0.05301753])]\n"
     ]
    }
   ],
   "source": [
    "print(boxes)\n",
    "print(encodings)"
   ]
  },
  {
   "cell_type": "code",
   "execution_count": 72,
   "id": "6974f172",
   "metadata": {},
   "outputs": [
    {
     "name": "stdout",
     "output_type": "stream",
     "text": [
      "{'ian_malcolm': 60}\n",
      "{'alan_grant': 6, 'ellie_sattler': 2}\n"
     ]
    }
   ],
   "source": [
    "# loop over the facial embeddings\n",
    "for encoding in encodings:\n",
    "    # attempt to match each face in the input image to our known\n",
    "    # encodings\n",
    "    matches = face_recognition.compare_faces(data[\"encodings\"],encoding)\n",
    "    name = \"Unknown\"\n",
    "    if True in matches:\n",
    "        # find the indexes of all matched faces then initialize a\n",
    "        # dictionary to count the total number of times each face\n",
    "        # was matched\n",
    "        matchedIdxs = [i for (i, b) in enumerate(matches) if b]\n",
    "        counts = {}\n",
    "        # loop over the matched indexes and maintain a count for\n",
    "        # each recognized face face\n",
    "        for i in matchedIdxs:\n",
    "            name = data[\"names\"][i]\n",
    "            counts[name] = counts.get(name, 0) + 1\n",
    "        # determine the recognized face with the largest number of\n",
    "        # votes (note: in the event of an unlikely tie Python will\n",
    "        # select first entry in the dictionary)\n",
    "        print(counts)\n",
    "        name = max(counts, key=counts.get)\n",
    "    # update the list of names\n",
    "    names.append(name)"
   ]
  },
  {
   "cell_type": "code",
   "execution_count": 73,
   "id": "d282713b",
   "metadata": {},
   "outputs": [
    {
     "name": "stdout",
     "output_type": "stream",
     "text": [
      "['ian_malcolm', 'alan_grant', 'Unknown']\n"
     ]
    }
   ],
   "source": [
    "print(names)"
   ]
  },
  {
   "cell_type": "code",
   "execution_count": 74,
   "id": "261d138c",
   "metadata": {},
   "outputs": [
    {
     "name": "stdout",
     "output_type": "stream",
     "text": [
      "[(130, 579, 182, 527), (135, 411, 198, 349), (177, 349, 239, 287)]\n"
     ]
    }
   ],
   "source": [
    "print(boxes)"
   ]
  },
  {
   "cell_type": "code",
   "execution_count": 75,
   "id": "ed7ff057",
   "metadata": {},
   "outputs": [],
   "source": [
    "# loop over the recognized faces\n",
    "for ((top, right, bottom, left), name) in zip(boxes, names):\n",
    "    # draw the predicted face name on the image\n",
    "    cv2.rectangle(image, (left, top), (right, bottom), (0, 255, 0), 2)\n",
    "    y = top - 15 if top - 15 > 15 else top + 15\n",
    "    cv2.putText(image, name, (left, y), cv2.FONT_HERSHEY_SIMPLEX,0.75, (0, 255, 0), 2)\n",
    "# show the output image\n",
    "cv2.imshow(\"Image\", image)\n",
    "cv2.imwrite(f\"Sample_7.jpg\", image)\n",
    "k=cv2.waitKey(0)\n",
    "\n",
    "if k == ord('s'): # wait for 's' key to save and exit\n",
    "    a=random.randint(0,99)  \n",
    "    cv2.destroyAllWindows()   "
   ]
  },
  {
   "cell_type": "code",
   "execution_count": null,
   "id": "ceaf890c",
   "metadata": {},
   "outputs": [],
   "source": []
  }
 ],
 "metadata": {
  "kernelspec": {
   "display_name": "Python 3",
   "language": "python",
   "name": "python3"
  },
  "language_info": {
   "codemirror_mode": {
    "name": "ipython",
    "version": 3
   },
   "file_extension": ".py",
   "mimetype": "text/x-python",
   "name": "python",
   "nbconvert_exporter": "python",
   "pygments_lexer": "ipython3",
   "version": "3.6.13"
  }
 },
 "nbformat": 4,
 "nbformat_minor": 5
}
