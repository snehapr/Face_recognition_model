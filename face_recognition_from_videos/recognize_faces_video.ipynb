{
 "cells": [
  {
   "cell_type": "code",
   "execution_count": 1,
   "metadata": {},
   "outputs": [],
   "source": [
    "from imutils.video import VideoStream\n",
    "import face_recognition\n",
    "import argparse\n",
    "import imutils\n",
    "import pickle\n",
    "import time\n",
    "import cv2"
   ]
  },
  {
   "cell_type": "code",
   "execution_count": 2,
   "metadata": {},
   "outputs": [],
   "source": [
    "# construct the argument parser and parse the arguments\n",
    "ap = argparse.ArgumentParser()\n",
    "ap.add_argument(\"-e\", \"--encodings\", required=True,help=\"path to serialized db of facial encodings\")\n",
    "ap.add_argument(\"-o\", \"--output\", type=str,help=\"path to output video\")\n",
    "ap.add_argument(\"-y\", \"--display\", type=int, default=1,help=\"whether or not to display output frame to screen\")\n",
    "ap.add_argument(\"-d\", \"--detection-method\", type=str, default=\"cnn\",help=\"face detection model to use: either `hog` or `cnn`\")\n",
    "args = vars(ap.parse_args)"
   ]
  },
  {
   "cell_type": "code",
   "execution_count": 3,
   "metadata": {},
   "outputs": [
    {
     "name": "stdout",
     "output_type": "stream",
     "text": [
      "loading encodings...\n",
      "Processing video stream...\n"
     ]
    }
   ],
   "source": [
    "# load the known faces and embeddings\n",
    "print(\"loading encodings...\")\n",
    "data = pickle.loads(open(\"encodings\", \"rb\").read())\n",
    "# initialize the video stream and pointer to output video file, then\n",
    "# allow the camera sensor to warm up\n",
    "print(\"Processing video stream...\")\n",
    "stream = cv2.VideoCapture(\"vid_3.mp4\")\n",
    "writer = None"
   ]
  },
  {
   "cell_type": "code",
   "execution_count": 4,
   "metadata": {},
   "outputs": [],
   "source": [
    "while True:\n",
    "\t# grab next frame\n",
    "\t(grabbed, frame) = stream.read()\n",
    "\n",
    "\t# if frame was not grabbed, then we have reached the end of stream\n",
    "\tif not grabbed:\n",
    "\t\tbreak\n",
    "\n",
    "\t# convert input frame from BGR to RGB then resize it to width of 750px\n",
    "\trgb = cv2.cvtColor(frame, cv2.COLOR_BGR2RGB)\n",
    "\trgb = imutils.resize(frame, width=750)\n",
    "\tr = frame.shape[1] / float(rgb.shape[1])\n",
    "\n",
    "\t# detect(x, y)-coords of bounding boxes corr. each face in input frame, then compute facial embeddings for each face\n",
    "\tboxes = face_recognition.face_locations(rgb,model=\"detection_method\")\n",
    "\tencodings = face_recognition.face_encodings(rgb, boxes)\n",
    "\tnames = []\n",
    "\n",
    "\t# loop over facial embeddings\n",
    "\tfor encoding in encodings:\n",
    "\t\t# attempt to match each face in input image to known encodings\n",
    "\t\tmatches = face_recognition.compare_faces(data[\"encodings\"],\n",
    "\t\t\tencoding)\n",
    "\t\tname = \"Unknown\"\n",
    "\n",
    "\t\t# check if match\n",
    "\t\tif True in matches:\n",
    "\t\t\t# find indexes of all matched faces, initialize dict to count total numtimes face matched\n",
    "\t\t\tmatchedIdxs = [i for (i, b) in enumerate(matches) if b]\n",
    "\t\t\tcounts = {}\n",
    "\n",
    "\t\t\t# loop over matched indexes and maintain count for each recognized face\n",
    "\t\t\tfor i in matchedIdxs:\n",
    "\t\t\t\tname = data[\"names\"][i]\n",
    "\t\t\t\tcounts[name] = counts.get(name, 0) + 1\n",
    "\n",
    "\t\t\t# determine recognized face with largest num votes\n",
    "\t\t\tname = max(counts, key=counts.get)\n",
    "\t\t\n",
    "\t\t# update list of names\n",
    "\t\tnames.append(name)\n",
    "\n",
    "\t# loop over recognized faces\n",
    "\tfor ((top, right, bottom, left), name) in zip(boxes, names):\n",
    "\t\t# rescale face coordinates\n",
    "\t\ttop = int(top * r)\n",
    "\t\tright = int(right * r)\n",
    "\t\tbottom = int(bottom * r)\n",
    "\t\tleft = int(left * r)\n",
    "\n",
    "\t\t# draw predicted face name on img\n",
    "\t\tcv2.rectangle(frame, (left, top), (right, bottom),\n",
    "\t\t\t(0, 255, 0), 2)\n",
    "\t\ty = top - 15 if top - 15 > 15 else top + 15\n",
    "\t\tcv2.putText(frame, name, (left, y), cv2.FONT_HERSHEY_SIMPLEX,\n",
    "\t\t\t0.75, (0, 255, 0), 2)\n",
    "\n",
    "\t# if vid writer is None && writing output vid to disk, init writer\tif writer is None and args[\"output\"] is not None:\n",
    "\tif writer is None:\n",
    "\t\tfourcc = cv2.VideoWriter_fourcc(*\"MJPG\")\n",
    "\t\twriter = cv2.VideoWriter(\"output.avi\", fourcc, 7,(frame.shape[1], frame.shape[0]), True)\n",
    "\n",
    "    # if writer is not None, write frame with recognized faces \n",
    "\tif writer is not None:\n",
    "\t\twriter.write(frame)\n",
    "        \n",
    "\tcv2.imshow(\"Frame\", frame)\n",
    "\tkey = cv2.waitKey(1)\n",
    "\n",
    "\t# if `q` key was pressed, break \n",
    "\tif key == ord(\"q\"):\n",
    "\t\tbreak\n",
    "            \n",
    "    \n",
    "# close vid file pointers\n",
    "stream.release()\n",
    "cv2.destroyAllWindows()  \n",
    "\n",
    "# check if the vid writer point needs to be released\n",
    "if writer is not None:\n",
    "\twriter.release()"
   ]
  },
  {
   "cell_type": "code",
   "execution_count": null,
   "metadata": {},
   "outputs": [],
   "source": []
  }
 ],
 "metadata": {
  "kernelspec": {
   "display_name": "Python 3",
   "language": "python",
   "name": "python3"
  },
  "language_info": {
   "codemirror_mode": {
    "name": "ipython",
    "version": 3
   },
   "file_extension": ".py",
   "mimetype": "text/x-python",
   "name": "python",
   "nbconvert_exporter": "python",
   "pygments_lexer": "ipython3",
   "version": "3.6.13"
  }
 },
 "nbformat": 4,
 "nbformat_minor": 4
}
